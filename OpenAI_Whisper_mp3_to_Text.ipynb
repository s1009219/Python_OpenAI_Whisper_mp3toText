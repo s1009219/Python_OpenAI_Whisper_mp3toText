{
  "nbformat": 4,
  "nbformat_minor": 0,
  "metadata": {
    "colab": {
      "provenance": [],
      "authorship_tag": "ABX9TyOLJXfFqP1AwR3y1ra5VpT9",
      "include_colab_link": true
    },
    "kernelspec": {
      "name": "python3",
      "display_name": "Python 3"
    },
    "language_info": {
      "name": "python"
    }
  },
  "cells": [
    {
      "cell_type": "markdown",
      "metadata": {
        "id": "view-in-github",
        "colab_type": "text"
      },
      "source": [
        "<a href=\"https://colab.research.google.com/github/s1009219/Python_OpenAI_Whisper_mp3toText/blob/main/OpenAI_Whisper_mp3_to_Text.ipynb\" target=\"_parent\"><img src=\"https://colab.research.google.com/assets/colab-badge.svg\" alt=\"Open In Colab\"/></a>"
      ]
    },
    {
      "cell_type": "code",
      "execution_count": null,
      "metadata": {
        "id": "7pxbLascrCp8"
      },
      "outputs": [],
      "source": [
        "!pip install openai-whisper"
      ]
    },
    {
      "cell_type": "code",
      "source": [
        "import whisper\n",
        "#Model Types(small, )\n",
        "model =  whisper.load_model(\"small\")\n",
        "result = model.transcribe(\"Filename.mp3\")\n",
        "with open(\"Filename.txt\",\"w\") as f:\n",
        "  f.write(result[\"text\"])"
      ],
      "metadata": {
        "id": "0ZwRgNl3rLgl",
        "colab": {
          "base_uri": "https://localhost:8080/"
        },
        "outputId": "41f9ef10-793d-47c2-ec56-a9490b37b000"
      },
      "execution_count": null,
      "outputs": [
        {
          "output_type": "stream",
          "name": "stderr",
          "text": [
            "100%|███████████████████████████████████████| 461M/461M [02:21<00:00, 3.42MiB/s]\n",
            "/usr/local/lib/python3.10/dist-packages/whisper/transcribe.py:114: UserWarning: FP16 is not supported on CPU; using FP32 instead\n",
            "  warnings.warn(\"FP16 is not supported on CPU; using FP32 instead\")\n"
          ]
        }
      ]
    }
  ]
}